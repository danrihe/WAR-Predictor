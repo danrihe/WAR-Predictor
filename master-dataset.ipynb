{
    "cells": [
        {
            "cell_type": "markdown",
            "source": [
                "# master-dataset.ipynb\n",
                "### **Scope:** Construct the working dataset based on three files: FanGraphs-Pitching-Standard.csv, FanGraphs-Pitching-Advanced.csv, and FanGraphcs-Pitching-Value.csv. Export the created dataset to a .csv file for us in WAR-Predictor.ipynb."
            ],
            "metadata": {}
        },
        {
            "cell_type": "code",
            "execution_count": 1,
            "source": [
                "import pandas as pd\n",
                "import os"
            ],
            "outputs": [],
            "metadata": {}
        },
        {
            "cell_type": "code",
            "execution_count": 3,
            "source": [
                "#Reading FanGraphs data into Pandas dataframes\n",
                "pitching_standard = pd.read_csv('FanGraphs-Pitching-Standard.csv')\n",
                "pitching_advanced = pd.read_csv('FanGraphs-Pitching-Advanced.csv')\n",
                "pitching_value = pd.read_csv('FanGraphs-Pitching-Value.csv')\n"
            ],
            "outputs": [],
            "metadata": {}
        },
        {
            "cell_type": "code",
            "execution_count": 4,
            "source": [
                "#Removing irrelevant statistics from pitching_value\n",
                "pitching_value = pitching_value.drop(columns=[\"RA9-WAR\", \"BIP-Wins\", \"LOB-Wins\", \"FDP-Wins\", \"RAR\", \"Dollars\"])\n",
                "\n",
                "#Joining datasets to create master dataset\n",
                "pitching_mds = pd.merge(pitching_standard, pitching_advanced, on=[\"playerid\", \"Season\", \"Name\", \"Team\"])\n",
                "pitching_mds = pd.merge(pitching_mds, pitching_value, on=[\"playerid\", \"Season\", \"Name\", \"Team\"])\n",
                "\n",
                "#Removing duplicate columns\n",
                "pitching_mds = pitching_mds.drop(columns=[\"ERA_y\"])\n",
                "pitching_mds = pitching_mds.rename(columns={\"ERA_x\" : \"ERA\"})\n",
                "\n",
                "#Removing % from the fields that contain them\n",
                "for x in range(len(pitching_mds)):\n",
                "    pitching_mds['K%'][x] = pitching_mds['K%'][x][:-1]\n",
                "    pitching_mds['BB%'][x] = pitching_mds['BB%'][x][:-1]\n",
                "    pitching_mds['K-BB%'][x] = pitching_mds['K-BB%'][x][:-1]\n",
                "    pitching_mds['LOB%'][x] = pitching_mds['LOB%'][x][:-1]\n",
                "\n",
                "#Export master dataset to csv file\n",
                "pitching_mds.to_csv('pitching-masterdataset.csv', index=False)\n"
            ],
            "outputs": [
                {
                    "output_type": "stream",
                    "name": "stderr",
                    "text": [
                        "/var/folders/g0/4lrv_ph94r71jngnydc3c1840000gn/T/ipykernel_44573/3931714107.py:14: SettingWithCopyWarning: \nA value is trying to be set on a copy of a slice from a DataFrame\n\nSee the caveats in the documentation: https://pandas.pydata.org/pandas-docs/stable/user_guide/indexing.html#returning-a-view-versus-a-copy\n  pitching_mds['K%'][x] = pitching_mds['K%'][x][:-1]\n/var/folders/g0/4lrv_ph94r71jngnydc3c1840000gn/T/ipykernel_44573/3931714107.py:15: SettingWithCopyWarning: \nA value is trying to be set on a copy of a slice from a DataFrame\n\nSee the caveats in the documentation: https://pandas.pydata.org/pandas-docs/stable/user_guide/indexing.html#returning-a-view-versus-a-copy\n  pitching_mds['BB%'][x] = pitching_mds['BB%'][x][:-1]\n/var/folders/g0/4lrv_ph94r71jngnydc3c1840000gn/T/ipykernel_44573/3931714107.py:16: SettingWithCopyWarning: \nA value is trying to be set on a copy of a slice from a DataFrame\n\nSee the caveats in the documentation: https://pandas.pydata.org/pandas-docs/stable/user_guide/indexing.html#returning-a-view-versus-a-copy\n  pitching_mds['K-BB%'][x] = pitching_mds['K-BB%'][x][:-1]\n/var/folders/g0/4lrv_ph94r71jngnydc3c1840000gn/T/ipykernel_44573/3931714107.py:17: SettingWithCopyWarning: \nA value is trying to be set on a copy of a slice from a DataFrame\n\nSee the caveats in the documentation: https://pandas.pydata.org/pandas-docs/stable/user_guide/indexing.html#returning-a-view-versus-a-copy\n  pitching_mds['LOB%'][x] = pitching_mds['LOB%'][x][:-1]\n"
                    ]
                }
            ],
            "metadata": {}
        },
        {
            "cell_type": "code",
            "execution_count": null,
            "source": [],
            "outputs": [],
            "metadata": {}
        }
    ],
    "metadata": {
        "orig_nbformat": 4,
        "language_info": {
            "name": "python",
            "version": "3.9.1",
            "mimetype": "text/x-python",
            "codemirror_mode": {
                "name": "ipython",
                "version": 3
            },
            "pygments_lexer": "ipython3",
            "nbconvert_exporter": "python",
            "file_extension": ".py"
        },
        "kernelspec": {
            "name": "python3",
            "display_name": "Python 3.9.1 64-bit"
        },
        "interpreter": {
            "hash": "aee8b7b246df8f9039afb4144a1f6fd8d2ca17a180786b69acc140d282b71a49"
        }
    },
    "nbformat": 4,
    "nbformat_minor": 2
}