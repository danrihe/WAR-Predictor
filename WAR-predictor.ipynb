{
 "cells": [
  {
   "cell_type": "markdown",
   "source": [
    "# WAR-Predictor.ipynb\n",
    "### **Scope:** Create a multiple linear regression model and random forest regression model to predict a pitcher's WAR based on other statistics."
   ],
   "metadata": {}
  },
  {
   "cell_type": "code",
   "execution_count": 1,
   "source": [
    "#Package Imports\n",
    "import pandas as pd \n",
    "import numpy as np \n",
    "import sklearn.metrics as metrics\n",
    "import os \n",
    "import matplotlib.pyplot as plt\n",
    "from sklearn import linear_model\n",
    "from sklearn.model_selection import train_test_split\n",
    "from sklearn.metrics import r2_score\n",
    "from sklearn.ensemble import RandomForestRegressor"
   ],
   "outputs": [],
   "metadata": {}
  },
  {
   "cell_type": "code",
   "execution_count": 2,
   "source": [
    "#Load master dataset\n",
    "df_pitching = pd.read_csv('pitching-masterdataset.csv')\n",
    "\n",
    "print(df_pitching.describe())"
   ],
   "outputs": [
    {
     "output_type": "stream",
     "name": "stdout",
     "text": [
      "            Season            W            L          ERA            G  \\\n",
      "count  3422.000000  3422.000000  3422.000000  3422.000000  3422.000000   \n",
      "mean   2015.751023     6.230567     5.939801     3.900009    40.379018   \n",
      "std       3.072060     4.267957     3.654775     1.172525    20.029921   \n",
      "min    2011.000000     0.000000     0.000000     0.540000     8.000000   \n",
      "25%    2013.000000     3.000000     3.000000     3.100000    25.000000   \n",
      "50%    2016.000000     5.000000     5.000000     3.810000    33.000000   \n",
      "75%    2018.000000     9.000000     8.000000     4.607500    61.000000   \n",
      "max    2021.000000    24.000000    19.000000     9.580000    85.000000   \n",
      "\n",
      "                GS           CG          ShO           SV          HLD  ...  \\\n",
      "count  3422.000000  3422.000000  3422.000000  3422.000000  3422.000000  ...   \n",
      "mean     13.345120     0.274693     0.134424     3.141146     4.746055  ...   \n",
      "std      12.577168     0.759965     0.443922     8.742923     7.737213  ...   \n",
      "min       0.000000     0.000000     0.000000     0.000000     0.000000  ...   \n",
      "25%       0.000000     0.000000     0.000000     0.000000     0.000000  ...   \n",
      "50%      12.000000     0.000000     0.000000     0.000000     0.000000  ...   \n",
      "75%      26.000000     0.000000     0.000000     1.000000     8.000000  ...   \n",
      "max      35.000000    11.000000     6.000000    57.000000    41.000000  ...   \n",
      "\n",
      "              WHIP        BABIP         ERA-         FIP-        xFIP-  \\\n",
      "count  3422.000000  3422.000000  3422.000000  3422.000000  3422.000000   \n",
      "mean      1.277022     0.289800    94.783168    96.512858    97.558153   \n",
      "std       0.200009     0.032317    27.547303    21.260601    16.754184   \n",
      "min       0.550000     0.170000    13.000000    21.000000    23.000000   \n",
      "25%       1.140000     0.269000    76.000000    83.000000    87.000000   \n",
      "50%       1.270000     0.291000    94.000000    97.000000    98.000000   \n",
      "75%       1.410000     0.311000   111.000000   110.000000   109.000000   \n",
      "max       2.090000     0.388000   220.000000   178.000000   158.000000   \n",
      "\n",
      "               FIP          E-F         xFIP        SIERA          WAR  \n",
      "count  3422.000000  3422.000000  3422.000000  3422.000000  3422.000000  \n",
      "mean      3.967896    -0.067987     4.009936     3.896634     1.287084  \n",
      "std       0.911166     0.747558     0.722406     0.771167     1.404701  \n",
      "min       0.780000    -2.400000     0.880000     0.760000    -1.600000  \n",
      "25%       3.360000    -0.550000     3.550000     3.400000     0.300000  \n",
      "50%       3.950000    -0.110000     4.030000     3.930000     1.000000  \n",
      "75%       4.540000     0.400000     4.480000     4.430000     1.900000  \n",
      "max       7.650000     2.880000     6.530000     6.280000     9.000000  \n",
      "\n",
      "[8 rows x 39 columns]\n"
     ]
    }
   ],
   "metadata": {}
  },
  {
   "cell_type": "code",
   "execution_count": 3,
   "source": [
    "#Removing % signs from fields that contain them\n",
    "for x in range(len(df_pitching)):\n",
    "    df_pitching['K%'][x] = df_pitching['K%'][x][:-1]\n",
    "    df_pitching['BB%'][x] = df_pitching['BB%'][x][:-1]\n",
    "    df_pitching['K-BB%'][x] = df_pitching['K-BB%'][x][:-1]\n",
    "    df_pitching['LOB%'][x] = df_pitching['LOB%'][x][:-1]\n",
    "\n",
    "#Split the master dataset into training set and testing set\n",
    "df_training, df_testing = train_test_split(df_pitching, test_size=0.25, random_state=42, shuffle=True)\n",
    "\n",
    "print(\"Number of records in training set: \" + str(len(df_training)))\n",
    "print(\"Number of records in testing set: \" + str(len(df_testing)))\n",
    "print(\"Total number of records in master dataset: \" + str(len(df_pitching)))"
   ],
   "outputs": [
    {
     "output_type": "stream",
     "name": "stderr",
     "text": [
      "/var/folders/g0/4lrv_ph94r71jngnydc3c1840000gn/T/ipykernel_13369/3217800170.py:3: SettingWithCopyWarning: \n",
      "A value is trying to be set on a copy of a slice from a DataFrame\n",
      "\n",
      "See the caveats in the documentation: https://pandas.pydata.org/pandas-docs/stable/user_guide/indexing.html#returning-a-view-versus-a-copy\n",
      "  df_pitching['K%'][x] = df_pitching['K%'][x][:-1]\n",
      "/var/folders/g0/4lrv_ph94r71jngnydc3c1840000gn/T/ipykernel_13369/3217800170.py:4: SettingWithCopyWarning: \n",
      "A value is trying to be set on a copy of a slice from a DataFrame\n",
      "\n",
      "See the caveats in the documentation: https://pandas.pydata.org/pandas-docs/stable/user_guide/indexing.html#returning-a-view-versus-a-copy\n",
      "  df_pitching['BB%'][x] = df_pitching['BB%'][x][:-1]\n",
      "/var/folders/g0/4lrv_ph94r71jngnydc3c1840000gn/T/ipykernel_13369/3217800170.py:5: SettingWithCopyWarning: \n",
      "A value is trying to be set on a copy of a slice from a DataFrame\n",
      "\n",
      "See the caveats in the documentation: https://pandas.pydata.org/pandas-docs/stable/user_guide/indexing.html#returning-a-view-versus-a-copy\n",
      "  df_pitching['K-BB%'][x] = df_pitching['K-BB%'][x][:-1]\n",
      "/var/folders/g0/4lrv_ph94r71jngnydc3c1840000gn/T/ipykernel_13369/3217800170.py:6: SettingWithCopyWarning: \n",
      "A value is trying to be set on a copy of a slice from a DataFrame\n",
      "\n",
      "See the caveats in the documentation: https://pandas.pydata.org/pandas-docs/stable/user_guide/indexing.html#returning-a-view-versus-a-copy\n",
      "  df_pitching['LOB%'][x] = df_pitching['LOB%'][x][:-1]\n"
     ]
    },
    {
     "output_type": "stream",
     "name": "stdout",
     "text": [
      "Number of records in training set: 2566\n",
      "Number of records in testing set: 856\n",
      "Total number of records in master dataset: 3422\n"
     ]
    }
   ],
   "metadata": {}
  },
  {
   "cell_type": "code",
   "execution_count": 4,
   "source": [
    "#Determine x and y variables. Let x represent the independent variables and y represent the dependent variable.\n",
    "y_train = df_training['WAR']\n",
    "X_train = df_training.drop(columns={'WAR', 'Season', 'Name', 'Team', 'playerid'})\n",
    "\n",
    "y_test = df_testing['WAR']\n",
    "X_test = df_testing.drop(columns={'WAR', 'Season', 'Name', 'Team', 'playerid'})"
   ],
   "outputs": [],
   "metadata": {}
  },
  {
   "cell_type": "code",
   "execution_count": 5,
   "source": [
    "#Construct multiple regression model\n",
    "regr = linear_model.LinearRegression()\n",
    "regr.fit(X_train, y_train)\n",
    "\n",
    "#Apply multiple linear regression model prediction\n",
    "y_pred_linear = regr.predict(X_test)\n",
    "\n",
    "#R-squared results to determine the success of the multiple linear regression model\n",
    "r2_linear = r2_score(y_test, y_pred_linear)\n",
    "print(\"Multiple Linear Regression R-Squared Score: \" + str(r2_linear))"
   ],
   "outputs": [
    {
     "output_type": "stream",
     "name": "stdout",
     "text": [
      "Multiple Linear Regression R-Squared Score: 0.9747554731866983\n"
     ]
    }
   ],
   "metadata": {}
  },
  {
   "cell_type": "code",
   "execution_count": 6,
   "source": [
    "#Construct random forest regression model\n",
    "forest_regr = RandomForestRegressor(n_estimators=100, random_state=0)\n",
    "forest_regr.fit(X_train, y_train)\n",
    "\n",
    "#Apply random forest model prediction\n",
    "y_pred_forest = forest_regr.predict(X_test)"
   ],
   "outputs": [],
   "metadata": {}
  },
  {
   "cell_type": "code",
   "execution_count": 7,
   "source": [
    "def regression_metrics(y_test, y_pred):\n",
    "    #Regression metrics\n",
    "    explained_variance = metrics.explained_variance_score(y_test, y_pred)\n",
    "    mean_absolute_error = metrics.mean_absolute_error(y_test, y_pred)\n",
    "    mean_squared_error = metrics.mean_squared_error(y_test, y_pred)\n",
    "    median_absolute_error = metrics.median_absolute_error(y_test, y_pred)\n",
    "\n",
    "    #Output regression metrics\n",
    "    print(\"Explained Variance: \" + str(explained_variance))\n",
    "    print(\"Mean Absolute Error: \" + str(mean_absolute_error))\n",
    "    print(\"Mean Squared Error: \" + str(mean_squared_error))\n",
    "    print(\"Median Absolute Error: \" + str(median_absolute_error))"
   ],
   "outputs": [],
   "metadata": {}
  },
  {
   "cell_type": "code",
   "execution_count": 9,
   "source": [
    "#Regression metrics for Linear Regression model\n",
    "print(\"Multiple Linear Regression Statistics:\")\n",
    "regression_metrics(y_test, y_pred_linear)\n",
    "\n",
    "print(\"-----------------------------------------\")\n",
    "\n",
    "#Regression metrics for Random Forest Model\n",
    "print(\"Random Forest Model Statistics:\")\n",
    "regression_metrics(y_test, y_pred_forest)"
   ],
   "outputs": [
    {
     "output_type": "stream",
     "name": "stdout",
     "text": [
      "Multiple Linear Regression Statistics:\n",
      "Explained Variance: 0.974768603321165\n",
      "Mean Absolute Error: 0.16817630745819503\n",
      "Mean Squared Error: 0.048794760547809166\n",
      "Median Absolute Error: 0.13078011257812044\n",
      "-----------------------------------------\n",
      "Random Forest Model Statistics:\n",
      "Explained Variance: 0.9701821411621511\n",
      "Mean Absolute Error: 0.17526985981308413\n",
      "Mean Squared Error: 0.05766230490654204\n",
      "Median Absolute Error: 0.131\n"
     ]
    }
   ],
   "metadata": {}
  },
  {
   "cell_type": "code",
   "execution_count": null,
   "source": [],
   "outputs": [],
   "metadata": {}
  }
 ],
 "metadata": {
  "orig_nbformat": 4,
  "language_info": {
   "name": "python",
   "version": "3.9.1",
   "mimetype": "text/x-python",
   "codemirror_mode": {
    "name": "ipython",
    "version": 3
   },
   "pygments_lexer": "ipython3",
   "nbconvert_exporter": "python",
   "file_extension": ".py"
  },
  "kernelspec": {
   "name": "python3",
   "display_name": "Python 3.9.1 64-bit"
  },
  "interpreter": {
   "hash": "aee8b7b246df8f9039afb4144a1f6fd8d2ca17a180786b69acc140d282b71a49"
  }
 },
 "nbformat": 4,
 "nbformat_minor": 2
}